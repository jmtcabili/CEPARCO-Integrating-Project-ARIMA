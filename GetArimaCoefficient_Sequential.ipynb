{
  "nbformat": 4,
  "nbformat_minor": 0,
  "metadata": {
    "colab": {
      "provenance": [],
      "include_colab_link": true
    },
    "kernelspec": {
      "name": "python3",
      "display_name": "Python 3"
    },
    "language_info": {
      "name": "python"
    }
  },
  "cells": [
    {
      "cell_type": "markdown",
      "metadata": {
        "id": "view-in-github",
        "colab_type": "text"
      },
      "source": [
        "<a href=\"https://colab.research.google.com/github/jmtcabili/CEPARCO-Integrating-Project-ARIMA/blob/main/GetArimaCoefficient_Sequential.ipynb\" target=\"_parent\"><img src=\"https://colab.research.google.com/assets/colab-badge.svg\" alt=\"Open In Colab\"/></a>"
      ]
    },
    {
      "cell_type": "code",
      "execution_count": null,
      "metadata": {
        "colab": {
          "base_uri": "https://localhost:8080/",
          "height": 554
        },
        "id": "ZvWpfXuWDjQt",
        "outputId": "c6b50b37-1f21-4af2-bad3-84ceeb91ba23"
      },
      "outputs": [
        {
          "output_type": "execute_result",
          "data": {
            "text/plain": [
              "0     3.526591\n",
              "1     3.180891\n",
              "2     3.252221\n",
              "3     3.611003\n",
              "4     3.565869\n",
              "5     4.306371\n",
              "6     5.088335\n",
              "7     2.814520\n",
              "8     2.985811\n",
              "9     3.204780\n",
              "10    3.127578\n",
              "11    3.270523\n",
              "12    3.737851\n",
              "13    3.558776\n",
              "14    3.777202\n",
              "Name: value, dtype: float64"
            ],
            "text/html": [
              "<div>\n",
              "<style scoped>\n",
              "    .dataframe tbody tr th:only-of-type {\n",
              "        vertical-align: middle;\n",
              "    }\n",
              "\n",
              "    .dataframe tbody tr th {\n",
              "        vertical-align: top;\n",
              "    }\n",
              "\n",
              "    .dataframe thead th {\n",
              "        text-align: right;\n",
              "    }\n",
              "</style>\n",
              "<table border=\"1\" class=\"dataframe\">\n",
              "  <thead>\n",
              "    <tr style=\"text-align: right;\">\n",
              "      <th></th>\n",
              "      <th>value</th>\n",
              "    </tr>\n",
              "  </thead>\n",
              "  <tbody>\n",
              "    <tr>\n",
              "      <th>0</th>\n",
              "      <td>3.526591</td>\n",
              "    </tr>\n",
              "    <tr>\n",
              "      <th>1</th>\n",
              "      <td>3.180891</td>\n",
              "    </tr>\n",
              "    <tr>\n",
              "      <th>2</th>\n",
              "      <td>3.252221</td>\n",
              "    </tr>\n",
              "    <tr>\n",
              "      <th>3</th>\n",
              "      <td>3.611003</td>\n",
              "    </tr>\n",
              "    <tr>\n",
              "      <th>4</th>\n",
              "      <td>3.565869</td>\n",
              "    </tr>\n",
              "    <tr>\n",
              "      <th>5</th>\n",
              "      <td>4.306371</td>\n",
              "    </tr>\n",
              "    <tr>\n",
              "      <th>6</th>\n",
              "      <td>5.088335</td>\n",
              "    </tr>\n",
              "    <tr>\n",
              "      <th>7</th>\n",
              "      <td>2.814520</td>\n",
              "    </tr>\n",
              "    <tr>\n",
              "      <th>8</th>\n",
              "      <td>2.985811</td>\n",
              "    </tr>\n",
              "    <tr>\n",
              "      <th>9</th>\n",
              "      <td>3.204780</td>\n",
              "    </tr>\n",
              "    <tr>\n",
              "      <th>10</th>\n",
              "      <td>3.127578</td>\n",
              "    </tr>\n",
              "    <tr>\n",
              "      <th>11</th>\n",
              "      <td>3.270523</td>\n",
              "    </tr>\n",
              "    <tr>\n",
              "      <th>12</th>\n",
              "      <td>3.737851</td>\n",
              "    </tr>\n",
              "    <tr>\n",
              "      <th>13</th>\n",
              "      <td>3.558776</td>\n",
              "    </tr>\n",
              "    <tr>\n",
              "      <th>14</th>\n",
              "      <td>3.777202</td>\n",
              "    </tr>\n",
              "  </tbody>\n",
              "</table>\n",
              "</div><br><label><b>dtype:</b> float64</label>"
            ]
          },
          "metadata": {},
          "execution_count": 50
        }
      ],
      "source": [
        "import pandas as pd\n",
        "import numpy as np\n",
        "\n",
        "# Read the file\n",
        "df = pd.read_csv('dataset.csv')  # or 'your_file.txt' if it's CSV-formatted\n",
        "\n",
        "# Extract the 'values' column\n",
        "values = df['value']  # returns a Series\n",
        "\n",
        "values.head(15)"
      ]
    },
    {
      "cell_type": "code",
      "source": [
        "def generate_dataframe(n):\n",
        "    values = np.array([(i%5) + 1 for i in range(n)])\n",
        "    df = pd.DataFrame({'value': values})\n",
        "    return df\n",
        "\n",
        "n = 2**20\n",
        "df = generate_dataframe(n)\n",
        "print(df)"
      ],
      "metadata": {
        "colab": {
          "base_uri": "https://localhost:8080/"
        },
        "id": "SjXy5bKMPkYm",
        "outputId": "838558bd-a9df-459d-c17a-9794660174a8"
      },
      "execution_count": null,
      "outputs": [
        {
          "output_type": "stream",
          "name": "stdout",
          "text": [
            "         value\n",
            "0            1\n",
            "1            2\n",
            "2            3\n",
            "3            4\n",
            "4            5\n",
            "...        ...\n",
            "1048571      2\n",
            "1048572      3\n",
            "1048573      4\n",
            "1048574      5\n",
            "1048575      1\n",
            "\n",
            "[1048576 rows x 1 columns]\n"
          ]
        }
      ]
    },
    {
      "cell_type": "code",
      "source": [
        "y = df['value'].to_numpy()\n"
      ],
      "metadata": {
        "id": "HiDsf5TQytBO"
      },
      "execution_count": null,
      "outputs": []
    },
    {
      "cell_type": "code",
      "source": [
        "import numpy as np\n",
        "import time\n",
        "\n",
        "def create_lagged_matrix(arr, p):\n",
        "    n = len(arr)\n",
        "    lagged_matrix = np.ones((n, p + 1))  # First column is ones\n",
        "\n",
        "    for j in range(1, p + 1):  # Iterate for lagged columns\n",
        "        lagged_matrix[j:, j] = arr[:-j]  # Shift values\n",
        "        lagged_matrix[:j, j] = 0  # Fill leading values with 0\n",
        "\n",
        "    return lagged_matrix"
      ],
      "metadata": {
        "id": "50bkCqMD0TF2"
      },
      "execution_count": null,
      "outputs": []
    },
    {
      "cell_type": "code",
      "source": [
        "p = 4\n",
        "num_iterations = 20\n",
        "execution_times = []\n",
        "\n",
        "for _ in range(num_iterations):\n",
        "    start_time = time.time()\n",
        "    x = create_lagged_matrix(y, p)  # Ensure create_lagged_matrix is defined\n",
        "    end_time = time.time()\n",
        "\n",
        "    execution_times.append(end_time - start_time)\n",
        "\n",
        "avg_time = np.mean(execution_times)\n",
        "print(f\"Average execution time over {num_iterations} runs: {avg_time:.6f} seconds\")\n",
        "\n"
      ],
      "metadata": {
        "id": "yZOXgslt0hD3",
        "colab": {
          "base_uri": "https://localhost:8080/"
        },
        "outputId": "be3cf23f-2af2-4de1-d2d0-41777f727c9c"
      },
      "execution_count": null,
      "outputs": [
        {
          "output_type": "stream",
          "name": "stdout",
          "text": [
            "Average execution time over 20 runs: 0.039379 seconds\n"
          ]
        }
      ]
    },
    {
      "cell_type": "code",
      "source": [
        "import time\n",
        "\n",
        "num_iterations = 20\n",
        "execution_times = []\n",
        "\n",
        "for _ in range(num_iterations):\n",
        "    start = time.perf_counter()\n",
        "    0.0\n",
        "    xt = x.transpose()\n",
        "    x1 = np.linalg.inv(np.matmul(xt, x))\n",
        "    x2 = np.matmul(x1, xt)\n",
        "    xf = np.matmul(x2, y)\n",
        "\n",
        "    end = time.perf_counter()\n",
        "\n",
        "    execution_times.append(end - start)\n",
        "\n",
        "avg_time = np.mean(execution_times)\n",
        "print(f\"Average execution time over {num_iterations} runs: {avg_time:.6f} seconds\")\n",
        "print(xf.round(2))"
      ],
      "metadata": {
        "colab": {
          "base_uri": "https://localhost:8080/"
        },
        "id": "SjKdIT_72KWR",
        "outputId": "038898b0-330f-422d-f53b-410af44dc4e6"
      },
      "execution_count": null,
      "outputs": [
        {
          "output_type": "stream",
          "name": "stdout",
          "text": [
            "Average execution time over 20 runs: 0.055705 seconds\n",
            "[15. -1. -1. -1. -1.]\n"
          ]
        }
      ]
    }
  ]
}